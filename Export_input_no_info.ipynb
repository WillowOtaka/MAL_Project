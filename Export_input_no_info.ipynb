{
 "cells": [
  {
   "cell_type": "code",
   "execution_count": 158,
   "metadata": {
    "collapsed": true,
    "pycharm": {
     "name": "#%%\n"
    }
   },
   "outputs": [],
   "source": [
    "import numpy as np\n",
    "import pandas as pd\n",
    "import json\n",
    "import warnings\n",
    "warnings.filterwarnings('ignore')"
   ]
  },
  {
   "cell_type": "code",
   "execution_count": 159,
   "outputs": [
    {
     "data": {
      "text/plain": "         uid                                              title  \\\n0      28891                            Haikyuu!! Second Season   \n1      23273                            Shigatsu wa Kimi no Uso   \n2      34599                                      Made in Abyss   \n3       5114                   Fullmetal Alchemist: Brotherhood   \n4      31758                   Kizumonogatari III: Reiketsu-hen   \n...      ...                                                ...   \n19002  10075                                        Naruto x UT   \n19003  35828                                   Miira no Kaikata   \n19004  10378                             Shinryaku!? Ika Musume   \n19005  33082                      Kingsglaive: Final Fantasy XV   \n19006  16934  Chuunibyou demo Koi ga Shitai!: Kirameki no......   \n\n                                                synopsis  \\\n0      Following their participation at the Inter-Hig...   \n1      Music accompanies the path of the human metron...   \n2      The Abyss—a gaping chasm stretching down into ...   \n3      \"In order for something to be obtained, someth...   \n4      After helping revive the legendary vampire Kis...   \n...                                                  ...   \n19002  All-new animation offered throughout UNIQLO cl...   \n19003  High school student Sora Kashiwagi is accustom...   \n19004  After regaining her squid-like abilities, Ika ...   \n19005  For years, the Niflheim Empire and the kingdom...   \n19006  Although Yuuta Togashi and Rikka Takanashi hav...   \n\n                                                   genre  \\\n0      ['Comedy', 'Sports', 'Drama', 'School', 'Shoun...   \n1      ['Drama', 'Music', 'Romance', 'School', 'Shoun...   \n2      ['Sci-Fi', 'Adventure', 'Mystery', 'Drama', 'F...   \n3      ['Action', 'Military', 'Adventure', 'Comedy', ...   \n4       ['Action', 'Mystery', 'Supernatural', 'Vampire']   \n...                                                  ...   \n19002  ['Action', 'Comedy', 'Super Power', 'Martial A...   \n19003        ['Slice of Life', 'Comedy', 'Supernatural']   \n19004             ['Slice of Life', 'Comedy', 'Shounen']   \n19005                                         ['Action']   \n19006  ['Comedy', 'Drama', 'Romance', 'School', 'Slic...   \n\n                              aired  episodes  members  popularity  ranked  \\\n0       Oct 4, 2015 to Mar 27, 2016      25.0   489888         141    25.0   \n1      Oct 10, 2014 to Mar 20, 2015      22.0   995473          28    24.0   \n2       Jul 7, 2017 to Sep 29, 2017      13.0   581663          98    23.0   \n3        Apr 5, 2009 to Jul 4, 2010      64.0  1615084           4     1.0   \n4                       Jan 6, 2017       1.0   214621         502    22.0   \n...                             ...       ...      ...         ...     ...   \n19002                   Jan 1, 2011       1.0    34155        2382  1728.0   \n19003  Jan 12, 2018 to Mar 30, 2018      12.0    61459        1648  1727.0   \n19004  Sep 27, 2011 to Dec 25, 2011      12.0    67422        1547  1548.0   \n19005                   Jul 9, 2016       1.0    41077        2154  1544.0   \n19006                  Jun 19, 2013       1.0   128400         883  1533.0   \n\n       score                                            img_url  \\\n0       8.82  https://cdn.myanimelist.net/images/anime/9/766...   \n1       8.83  https://cdn.myanimelist.net/images/anime/3/671...   \n2       8.83  https://cdn.myanimelist.net/images/anime/6/867...   \n3       9.23  https://cdn.myanimelist.net/images/anime/1223/...   \n4       8.83  https://cdn.myanimelist.net/images/anime/3/815...   \n...      ...                                                ...   \n19002   7.50  https://cdn.myanimelist.net/images/anime/3/304...   \n19003   7.50  https://cdn.myanimelist.net/images/anime/1486/...   \n19004   7.56  https://cdn.myanimelist.net/images/anime/6/301...   \n19005   7.56  https://cdn.myanimelist.net/images/anime/12/79...   \n19006   7.56  https://cdn.myanimelist.net/images/anime/7/455...   \n\n                                                    link  \n0      https://myanimelist.net/anime/28891/Haikyuu_Se...  \n1      https://myanimelist.net/anime/23273/Shigatsu_w...  \n2      https://myanimelist.net/anime/34599/Made_in_Abyss  \n3      https://myanimelist.net/anime/5114/Fullmetal_A...  \n4      https://myanimelist.net/anime/31758/Kizumonoga...  \n...                                                  ...  \n19002    https://myanimelist.net/anime/10075/Naruto_x_UT  \n19003  https://myanimelist.net/anime/35828/Miira_no_K...  \n19004  https://myanimelist.net/anime/10378/Shinryaku_...  \n19005  https://myanimelist.net/anime/33082/Kingsglaiv...  \n19006  https://myanimelist.net/anime/16934/Chuunibyou...  \n\n[16216 rows x 12 columns]",
      "text/html": "<div>\n<style scoped>\n    .dataframe tbody tr th:only-of-type {\n        vertical-align: middle;\n    }\n\n    .dataframe tbody tr th {\n        vertical-align: top;\n    }\n\n    .dataframe thead th {\n        text-align: right;\n    }\n</style>\n<table border=\"1\" class=\"dataframe\">\n  <thead>\n    <tr style=\"text-align: right;\">\n      <th></th>\n      <th>uid</th>\n      <th>title</th>\n      <th>synopsis</th>\n      <th>genre</th>\n      <th>aired</th>\n      <th>episodes</th>\n      <th>members</th>\n      <th>popularity</th>\n      <th>ranked</th>\n      <th>score</th>\n      <th>img_url</th>\n      <th>link</th>\n    </tr>\n  </thead>\n  <tbody>\n    <tr>\n      <th>0</th>\n      <td>28891</td>\n      <td>Haikyuu!! Second Season</td>\n      <td>Following their participation at the Inter-Hig...</td>\n      <td>['Comedy', 'Sports', 'Drama', 'School', 'Shoun...</td>\n      <td>Oct 4, 2015 to Mar 27, 2016</td>\n      <td>25.0</td>\n      <td>489888</td>\n      <td>141</td>\n      <td>25.0</td>\n      <td>8.82</td>\n      <td>https://cdn.myanimelist.net/images/anime/9/766...</td>\n      <td>https://myanimelist.net/anime/28891/Haikyuu_Se...</td>\n    </tr>\n    <tr>\n      <th>1</th>\n      <td>23273</td>\n      <td>Shigatsu wa Kimi no Uso</td>\n      <td>Music accompanies the path of the human metron...</td>\n      <td>['Drama', 'Music', 'Romance', 'School', 'Shoun...</td>\n      <td>Oct 10, 2014 to Mar 20, 2015</td>\n      <td>22.0</td>\n      <td>995473</td>\n      <td>28</td>\n      <td>24.0</td>\n      <td>8.83</td>\n      <td>https://cdn.myanimelist.net/images/anime/3/671...</td>\n      <td>https://myanimelist.net/anime/23273/Shigatsu_w...</td>\n    </tr>\n    <tr>\n      <th>2</th>\n      <td>34599</td>\n      <td>Made in Abyss</td>\n      <td>The Abyss—a gaping chasm stretching down into ...</td>\n      <td>['Sci-Fi', 'Adventure', 'Mystery', 'Drama', 'F...</td>\n      <td>Jul 7, 2017 to Sep 29, 2017</td>\n      <td>13.0</td>\n      <td>581663</td>\n      <td>98</td>\n      <td>23.0</td>\n      <td>8.83</td>\n      <td>https://cdn.myanimelist.net/images/anime/6/867...</td>\n      <td>https://myanimelist.net/anime/34599/Made_in_Abyss</td>\n    </tr>\n    <tr>\n      <th>3</th>\n      <td>5114</td>\n      <td>Fullmetal Alchemist: Brotherhood</td>\n      <td>\"In order for something to be obtained, someth...</td>\n      <td>['Action', 'Military', 'Adventure', 'Comedy', ...</td>\n      <td>Apr 5, 2009 to Jul 4, 2010</td>\n      <td>64.0</td>\n      <td>1615084</td>\n      <td>4</td>\n      <td>1.0</td>\n      <td>9.23</td>\n      <td>https://cdn.myanimelist.net/images/anime/1223/...</td>\n      <td>https://myanimelist.net/anime/5114/Fullmetal_A...</td>\n    </tr>\n    <tr>\n      <th>4</th>\n      <td>31758</td>\n      <td>Kizumonogatari III: Reiketsu-hen</td>\n      <td>After helping revive the legendary vampire Kis...</td>\n      <td>['Action', 'Mystery', 'Supernatural', 'Vampire']</td>\n      <td>Jan 6, 2017</td>\n      <td>1.0</td>\n      <td>214621</td>\n      <td>502</td>\n      <td>22.0</td>\n      <td>8.83</td>\n      <td>https://cdn.myanimelist.net/images/anime/3/815...</td>\n      <td>https://myanimelist.net/anime/31758/Kizumonoga...</td>\n    </tr>\n    <tr>\n      <th>...</th>\n      <td>...</td>\n      <td>...</td>\n      <td>...</td>\n      <td>...</td>\n      <td>...</td>\n      <td>...</td>\n      <td>...</td>\n      <td>...</td>\n      <td>...</td>\n      <td>...</td>\n      <td>...</td>\n      <td>...</td>\n    </tr>\n    <tr>\n      <th>19002</th>\n      <td>10075</td>\n      <td>Naruto x UT</td>\n      <td>All-new animation offered throughout UNIQLO cl...</td>\n      <td>['Action', 'Comedy', 'Super Power', 'Martial A...</td>\n      <td>Jan 1, 2011</td>\n      <td>1.0</td>\n      <td>34155</td>\n      <td>2382</td>\n      <td>1728.0</td>\n      <td>7.50</td>\n      <td>https://cdn.myanimelist.net/images/anime/3/304...</td>\n      <td>https://myanimelist.net/anime/10075/Naruto_x_UT</td>\n    </tr>\n    <tr>\n      <th>19003</th>\n      <td>35828</td>\n      <td>Miira no Kaikata</td>\n      <td>High school student Sora Kashiwagi is accustom...</td>\n      <td>['Slice of Life', 'Comedy', 'Supernatural']</td>\n      <td>Jan 12, 2018 to Mar 30, 2018</td>\n      <td>12.0</td>\n      <td>61459</td>\n      <td>1648</td>\n      <td>1727.0</td>\n      <td>7.50</td>\n      <td>https://cdn.myanimelist.net/images/anime/1486/...</td>\n      <td>https://myanimelist.net/anime/35828/Miira_no_K...</td>\n    </tr>\n    <tr>\n      <th>19004</th>\n      <td>10378</td>\n      <td>Shinryaku!? Ika Musume</td>\n      <td>After regaining her squid-like abilities, Ika ...</td>\n      <td>['Slice of Life', 'Comedy', 'Shounen']</td>\n      <td>Sep 27, 2011 to Dec 25, 2011</td>\n      <td>12.0</td>\n      <td>67422</td>\n      <td>1547</td>\n      <td>1548.0</td>\n      <td>7.56</td>\n      <td>https://cdn.myanimelist.net/images/anime/6/301...</td>\n      <td>https://myanimelist.net/anime/10378/Shinryaku_...</td>\n    </tr>\n    <tr>\n      <th>19005</th>\n      <td>33082</td>\n      <td>Kingsglaive: Final Fantasy XV</td>\n      <td>For years, the Niflheim Empire and the kingdom...</td>\n      <td>['Action']</td>\n      <td>Jul 9, 2016</td>\n      <td>1.0</td>\n      <td>41077</td>\n      <td>2154</td>\n      <td>1544.0</td>\n      <td>7.56</td>\n      <td>https://cdn.myanimelist.net/images/anime/12/79...</td>\n      <td>https://myanimelist.net/anime/33082/Kingsglaiv...</td>\n    </tr>\n    <tr>\n      <th>19006</th>\n      <td>16934</td>\n      <td>Chuunibyou demo Koi ga Shitai!: Kirameki no......</td>\n      <td>Although Yuuta Togashi and Rikka Takanashi hav...</td>\n      <td>['Comedy', 'Drama', 'Romance', 'School', 'Slic...</td>\n      <td>Jun 19, 2013</td>\n      <td>1.0</td>\n      <td>128400</td>\n      <td>883</td>\n      <td>1533.0</td>\n      <td>7.56</td>\n      <td>https://cdn.myanimelist.net/images/anime/7/455...</td>\n      <td>https://myanimelist.net/anime/16934/Chuunibyou...</td>\n    </tr>\n  </tbody>\n</table>\n<p>16216 rows × 12 columns</p>\n</div>"
     },
     "execution_count": 159,
     "metadata": {},
     "output_type": "execute_result"
    }
   ],
   "source": [
    "animes_data = pd.read_csv('./MAL_Data/animes.csv').drop_duplicates(subset=['uid'])\n",
    "animes_data"
   ],
   "metadata": {
    "collapsed": false,
    "pycharm": {
     "name": "#%%\n"
    }
   }
  },
  {
   "cell_type": "code",
   "execution_count": 160,
   "outputs": [
    {
     "data": {
      "text/plain": "               profile  gender      birthday  \\\n0       DesolatePsyche    Male   Oct 2, 1994   \n1            baekbeans  Female  Nov 10, 2000   \n2                 skrn     NaN           NaN   \n3         edgewalker00    Male         Sep 5   \n4      aManOfCulture99    Male  Oct 30, 1999   \n...                ...     ...           ...   \n81722       lovelessxd  Female   Aug 6, 1992   \n81723  Shattered_Angel  Female   Sep 6, 1994   \n81724     FluffyWalrus    Male           NaN   \n81725            camco  Female        Sep 23   \n81726        nyja-chan  Female        Nov 13   \n\n                                         favorites_anime  \\\n0      ['33352', '25013', '5530', '33674', '1482', '2...   \n1      ['11061', '31964', '853', '20583', '918', '925...   \n2      ['918', '2904', '11741', '17074', '23273', '32...   \n3               ['5680', '849', '2904', '3588', '37349']   \n4      ['4181', '7791', '9617', '5680', '2167', '4382...   \n...                                                  ...   \n81722                                    ['853', '5114']   \n81723  ['150', '27', '1520', '121', '31452', '32995',...   \n81724                 ['121', '43', '237', '202', '205']   \n81725          ['199', '4224', '7054', '13601', '14713']   \n81726  ['39195', '38000', '440', '457', '34599', '225...   \n\n                                                  link  \n0       https://myanimelist.net/profile/DesolatePsyche  \n1            https://myanimelist.net/profile/baekbeans  \n2                 https://myanimelist.net/profile/skrn  \n3         https://myanimelist.net/profile/edgewalker00  \n4      https://myanimelist.net/profile/aManOfCulture99  \n...                                                ...  \n81722       https://myanimelist.net/profile/lovelessxd  \n81723  https://myanimelist.net/profile/Shattered_Angel  \n81724     https://myanimelist.net/profile/FluffyWalrus  \n81725            https://myanimelist.net/profile/camco  \n81726        https://myanimelist.net/profile/nyja-chan  \n\n[81727 rows x 5 columns]",
      "text/html": "<div>\n<style scoped>\n    .dataframe tbody tr th:only-of-type {\n        vertical-align: middle;\n    }\n\n    .dataframe tbody tr th {\n        vertical-align: top;\n    }\n\n    .dataframe thead th {\n        text-align: right;\n    }\n</style>\n<table border=\"1\" class=\"dataframe\">\n  <thead>\n    <tr style=\"text-align: right;\">\n      <th></th>\n      <th>profile</th>\n      <th>gender</th>\n      <th>birthday</th>\n      <th>favorites_anime</th>\n      <th>link</th>\n    </tr>\n  </thead>\n  <tbody>\n    <tr>\n      <th>0</th>\n      <td>DesolatePsyche</td>\n      <td>Male</td>\n      <td>Oct 2, 1994</td>\n      <td>['33352', '25013', '5530', '33674', '1482', '2...</td>\n      <td>https://myanimelist.net/profile/DesolatePsyche</td>\n    </tr>\n    <tr>\n      <th>1</th>\n      <td>baekbeans</td>\n      <td>Female</td>\n      <td>Nov 10, 2000</td>\n      <td>['11061', '31964', '853', '20583', '918', '925...</td>\n      <td>https://myanimelist.net/profile/baekbeans</td>\n    </tr>\n    <tr>\n      <th>2</th>\n      <td>skrn</td>\n      <td>NaN</td>\n      <td>NaN</td>\n      <td>['918', '2904', '11741', '17074', '23273', '32...</td>\n      <td>https://myanimelist.net/profile/skrn</td>\n    </tr>\n    <tr>\n      <th>3</th>\n      <td>edgewalker00</td>\n      <td>Male</td>\n      <td>Sep 5</td>\n      <td>['5680', '849', '2904', '3588', '37349']</td>\n      <td>https://myanimelist.net/profile/edgewalker00</td>\n    </tr>\n    <tr>\n      <th>4</th>\n      <td>aManOfCulture99</td>\n      <td>Male</td>\n      <td>Oct 30, 1999</td>\n      <td>['4181', '7791', '9617', '5680', '2167', '4382...</td>\n      <td>https://myanimelist.net/profile/aManOfCulture99</td>\n    </tr>\n    <tr>\n      <th>...</th>\n      <td>...</td>\n      <td>...</td>\n      <td>...</td>\n      <td>...</td>\n      <td>...</td>\n    </tr>\n    <tr>\n      <th>81722</th>\n      <td>lovelessxd</td>\n      <td>Female</td>\n      <td>Aug 6, 1992</td>\n      <td>['853', '5114']</td>\n      <td>https://myanimelist.net/profile/lovelessxd</td>\n    </tr>\n    <tr>\n      <th>81723</th>\n      <td>Shattered_Angel</td>\n      <td>Female</td>\n      <td>Sep 6, 1994</td>\n      <td>['150', '27', '1520', '121', '31452', '32995',...</td>\n      <td>https://myanimelist.net/profile/Shattered_Angel</td>\n    </tr>\n    <tr>\n      <th>81724</th>\n      <td>FluffyWalrus</td>\n      <td>Male</td>\n      <td>NaN</td>\n      <td>['121', '43', '237', '202', '205']</td>\n      <td>https://myanimelist.net/profile/FluffyWalrus</td>\n    </tr>\n    <tr>\n      <th>81725</th>\n      <td>camco</td>\n      <td>Female</td>\n      <td>Sep 23</td>\n      <td>['199', '4224', '7054', '13601', '14713']</td>\n      <td>https://myanimelist.net/profile/camco</td>\n    </tr>\n    <tr>\n      <th>81726</th>\n      <td>nyja-chan</td>\n      <td>Female</td>\n      <td>Nov 13</td>\n      <td>['39195', '38000', '440', '457', '34599', '225...</td>\n      <td>https://myanimelist.net/profile/nyja-chan</td>\n    </tr>\n  </tbody>\n</table>\n<p>81727 rows × 5 columns</p>\n</div>"
     },
     "execution_count": 160,
     "metadata": {},
     "output_type": "execute_result"
    }
   ],
   "source": [
    "profiles_data = pd.read_csv('./MAL_Data/profiles.csv')\n",
    "profiles_data"
   ],
   "metadata": {
    "collapsed": false,
    "pycharm": {
     "name": "#%%\n"
    }
   }
  },
  {
   "cell_type": "code",
   "execution_count": 161,
   "outputs": [
    {
     "data": {
      "text/plain": "           uid          profile  anime_uid  \\\n0       255938   DesolatePsyche      34096   \n1       259117        baekbeans      34599   \n2       253664             skrn      28891   \n3         8254     edgewalker00       2904   \n4       291149  aManOfCulture99       4181   \n...        ...              ...        ...   \n192107  240067       Unicorn819       1281   \n192108  285777        ShizzoSVH       1281   \n192109  286904        AlluMan96       1281   \n192110  287903        AgentK300       1281   \n192111  299323       Scarlet012       1281   \n\n                                                     text  score  \\\n0       \\n           \\n         \\n           \\n       ...      8   \n1       \\n           \\n         \\n           \\n       ...     10   \n2       \\n           \\n         \\n           \\n       ...      7   \n3       \\n           \\n         \\n           \\n       ...      9   \n4       \\n           \\n         \\n           \\n       ...     10   \n...                                                   ...    ...   \n192107  \\n           \\n         \\n           \\n       ...      9   \n192108  \\n           \\n         \\n           \\n       ...      9   \n192109  \\n           \\n         \\n           \\n       ...      3   \n192110  \\n           \\n         \\n           \\n       ...     10   \n192111  \\n           \\n         \\n           \\n       ...      9   \n\n                                                   scores  \\\n0       {'Overall': '8', 'Story': '8', 'Animation': '8...   \n1       {'Overall': '10', 'Story': '10', 'Animation': ...   \n2       {'Overall': '7', 'Story': '7', 'Animation': '9...   \n3       {'Overall': '9', 'Story': '9', 'Animation': '9...   \n4       {'Overall': '10', 'Story': '10', 'Animation': ...   \n...                                                   ...   \n192107  {'Overall': '9', 'Story': '5', 'Animation': '1...   \n192108  {'Overall': '9', 'Story': '7', 'Animation': '9...   \n192109  {'Overall': '3', 'Story': '3', 'Animation': '1...   \n192110  {'Overall': '10', 'Story': '3', 'Animation': '...   \n192111  {'Overall': '9', 'Story': '7', 'Animation': '8...   \n\n                                                 link  \n0       https://myanimelist.net/reviews.php?id=255938  \n1       https://myanimelist.net/reviews.php?id=259117  \n2       https://myanimelist.net/reviews.php?id=253664  \n3         https://myanimelist.net/reviews.php?id=8254  \n4       https://myanimelist.net/reviews.php?id=291149  \n...                                               ...  \n192107  https://myanimelist.net/reviews.php?id=240067  \n192108  https://myanimelist.net/reviews.php?id=285777  \n192109  https://myanimelist.net/reviews.php?id=286904  \n192110  https://myanimelist.net/reviews.php?id=287903  \n192111  https://myanimelist.net/reviews.php?id=299323  \n\n[192112 rows x 7 columns]",
      "text/html": "<div>\n<style scoped>\n    .dataframe tbody tr th:only-of-type {\n        vertical-align: middle;\n    }\n\n    .dataframe tbody tr th {\n        vertical-align: top;\n    }\n\n    .dataframe thead th {\n        text-align: right;\n    }\n</style>\n<table border=\"1\" class=\"dataframe\">\n  <thead>\n    <tr style=\"text-align: right;\">\n      <th></th>\n      <th>uid</th>\n      <th>profile</th>\n      <th>anime_uid</th>\n      <th>text</th>\n      <th>score</th>\n      <th>scores</th>\n      <th>link</th>\n    </tr>\n  </thead>\n  <tbody>\n    <tr>\n      <th>0</th>\n      <td>255938</td>\n      <td>DesolatePsyche</td>\n      <td>34096</td>\n      <td>\\n           \\n         \\n           \\n       ...</td>\n      <td>8</td>\n      <td>{'Overall': '8', 'Story': '8', 'Animation': '8...</td>\n      <td>https://myanimelist.net/reviews.php?id=255938</td>\n    </tr>\n    <tr>\n      <th>1</th>\n      <td>259117</td>\n      <td>baekbeans</td>\n      <td>34599</td>\n      <td>\\n           \\n         \\n           \\n       ...</td>\n      <td>10</td>\n      <td>{'Overall': '10', 'Story': '10', 'Animation': ...</td>\n      <td>https://myanimelist.net/reviews.php?id=259117</td>\n    </tr>\n    <tr>\n      <th>2</th>\n      <td>253664</td>\n      <td>skrn</td>\n      <td>28891</td>\n      <td>\\n           \\n         \\n           \\n       ...</td>\n      <td>7</td>\n      <td>{'Overall': '7', 'Story': '7', 'Animation': '9...</td>\n      <td>https://myanimelist.net/reviews.php?id=253664</td>\n    </tr>\n    <tr>\n      <th>3</th>\n      <td>8254</td>\n      <td>edgewalker00</td>\n      <td>2904</td>\n      <td>\\n           \\n         \\n           \\n       ...</td>\n      <td>9</td>\n      <td>{'Overall': '9', 'Story': '9', 'Animation': '9...</td>\n      <td>https://myanimelist.net/reviews.php?id=8254</td>\n    </tr>\n    <tr>\n      <th>4</th>\n      <td>291149</td>\n      <td>aManOfCulture99</td>\n      <td>4181</td>\n      <td>\\n           \\n         \\n           \\n       ...</td>\n      <td>10</td>\n      <td>{'Overall': '10', 'Story': '10', 'Animation': ...</td>\n      <td>https://myanimelist.net/reviews.php?id=291149</td>\n    </tr>\n    <tr>\n      <th>...</th>\n      <td>...</td>\n      <td>...</td>\n      <td>...</td>\n      <td>...</td>\n      <td>...</td>\n      <td>...</td>\n      <td>...</td>\n    </tr>\n    <tr>\n      <th>192107</th>\n      <td>240067</td>\n      <td>Unicorn819</td>\n      <td>1281</td>\n      <td>\\n           \\n         \\n           \\n       ...</td>\n      <td>9</td>\n      <td>{'Overall': '9', 'Story': '5', 'Animation': '1...</td>\n      <td>https://myanimelist.net/reviews.php?id=240067</td>\n    </tr>\n    <tr>\n      <th>192108</th>\n      <td>285777</td>\n      <td>ShizzoSVH</td>\n      <td>1281</td>\n      <td>\\n           \\n         \\n           \\n       ...</td>\n      <td>9</td>\n      <td>{'Overall': '9', 'Story': '7', 'Animation': '9...</td>\n      <td>https://myanimelist.net/reviews.php?id=285777</td>\n    </tr>\n    <tr>\n      <th>192109</th>\n      <td>286904</td>\n      <td>AlluMan96</td>\n      <td>1281</td>\n      <td>\\n           \\n         \\n           \\n       ...</td>\n      <td>3</td>\n      <td>{'Overall': '3', 'Story': '3', 'Animation': '1...</td>\n      <td>https://myanimelist.net/reviews.php?id=286904</td>\n    </tr>\n    <tr>\n      <th>192110</th>\n      <td>287903</td>\n      <td>AgentK300</td>\n      <td>1281</td>\n      <td>\\n           \\n         \\n           \\n       ...</td>\n      <td>10</td>\n      <td>{'Overall': '10', 'Story': '3', 'Animation': '...</td>\n      <td>https://myanimelist.net/reviews.php?id=287903</td>\n    </tr>\n    <tr>\n      <th>192111</th>\n      <td>299323</td>\n      <td>Scarlet012</td>\n      <td>1281</td>\n      <td>\\n           \\n         \\n           \\n       ...</td>\n      <td>9</td>\n      <td>{'Overall': '9', 'Story': '7', 'Animation': '8...</td>\n      <td>https://myanimelist.net/reviews.php?id=299323</td>\n    </tr>\n  </tbody>\n</table>\n<p>192112 rows × 7 columns</p>\n</div>"
     },
     "execution_count": 161,
     "metadata": {},
     "output_type": "execute_result"
    }
   ],
   "source": [
    "reviews_data = pd.read_csv('./MAL_Data/reviews.csv')\n",
    "reviews_data"
   ],
   "metadata": {
    "collapsed": false,
    "pycharm": {
     "name": "#%%\n"
    }
   }
  },
  {
   "cell_type": "code",
   "execution_count": 162,
   "outputs": [
    {
     "data": {
      "text/plain": "               profile     a0     a1     a2     a3     a4     a5     a6    a7  \\\n0       DesolatePsyche  33352  25013   5530  33674   1482    269  18245  2904   \n1            baekbeans  11061  31964    853  20583    918   9253  34599  3588   \n2                 skrn    918   2904  11741  17074  23273  32281   9989  1943   \n3         edgewalker00   5680    849   2904   3588  37349      0      0     0   \n4      aManOfCulture99   4181   7791   9617   5680   2167   4382    849   235   \n...                ...    ...    ...    ...    ...    ...    ...    ...   ...   \n77646        WeissYuki  36563    237  23273  32979  23283  12189   5114  4282   \n77651          Akuteru   6624  20785  17265  28121      0      0      0     0   \n77652         Razielek     47    523    820     30    339      0      0     0   \n77654       Mattierial  10087  21327    585  28851  32281    431    578  5114   \n77657       bridgesams  37510  35180     30  31043   5081  37450  11843     0   \n\n          a8     a9  \n0      27899  17074  \n1      13601   6956  \n2        512      0  \n3          0      0  \n4      35180  31646  \n...      ...    ...  \n77646      0      0  \n77651      0      0  \n77652      0      0  \n77654   1535      0  \n77657      0      0  \n\n[37478 rows x 11 columns]",
      "text/html": "<div>\n<style scoped>\n    .dataframe tbody tr th:only-of-type {\n        vertical-align: middle;\n    }\n\n    .dataframe tbody tr th {\n        vertical-align: top;\n    }\n\n    .dataframe thead th {\n        text-align: right;\n    }\n</style>\n<table border=\"1\" class=\"dataframe\">\n  <thead>\n    <tr style=\"text-align: right;\">\n      <th></th>\n      <th>profile</th>\n      <th>a0</th>\n      <th>a1</th>\n      <th>a2</th>\n      <th>a3</th>\n      <th>a4</th>\n      <th>a5</th>\n      <th>a6</th>\n      <th>a7</th>\n      <th>a8</th>\n      <th>a9</th>\n    </tr>\n  </thead>\n  <tbody>\n    <tr>\n      <th>0</th>\n      <td>DesolatePsyche</td>\n      <td>33352</td>\n      <td>25013</td>\n      <td>5530</td>\n      <td>33674</td>\n      <td>1482</td>\n      <td>269</td>\n      <td>18245</td>\n      <td>2904</td>\n      <td>27899</td>\n      <td>17074</td>\n    </tr>\n    <tr>\n      <th>1</th>\n      <td>baekbeans</td>\n      <td>11061</td>\n      <td>31964</td>\n      <td>853</td>\n      <td>20583</td>\n      <td>918</td>\n      <td>9253</td>\n      <td>34599</td>\n      <td>3588</td>\n      <td>13601</td>\n      <td>6956</td>\n    </tr>\n    <tr>\n      <th>2</th>\n      <td>skrn</td>\n      <td>918</td>\n      <td>2904</td>\n      <td>11741</td>\n      <td>17074</td>\n      <td>23273</td>\n      <td>32281</td>\n      <td>9989</td>\n      <td>1943</td>\n      <td>512</td>\n      <td>0</td>\n    </tr>\n    <tr>\n      <th>3</th>\n      <td>edgewalker00</td>\n      <td>5680</td>\n      <td>849</td>\n      <td>2904</td>\n      <td>3588</td>\n      <td>37349</td>\n      <td>0</td>\n      <td>0</td>\n      <td>0</td>\n      <td>0</td>\n      <td>0</td>\n    </tr>\n    <tr>\n      <th>4</th>\n      <td>aManOfCulture99</td>\n      <td>4181</td>\n      <td>7791</td>\n      <td>9617</td>\n      <td>5680</td>\n      <td>2167</td>\n      <td>4382</td>\n      <td>849</td>\n      <td>235</td>\n      <td>35180</td>\n      <td>31646</td>\n    </tr>\n    <tr>\n      <th>...</th>\n      <td>...</td>\n      <td>...</td>\n      <td>...</td>\n      <td>...</td>\n      <td>...</td>\n      <td>...</td>\n      <td>...</td>\n      <td>...</td>\n      <td>...</td>\n      <td>...</td>\n      <td>...</td>\n    </tr>\n    <tr>\n      <th>77646</th>\n      <td>WeissYuki</td>\n      <td>36563</td>\n      <td>237</td>\n      <td>23273</td>\n      <td>32979</td>\n      <td>23283</td>\n      <td>12189</td>\n      <td>5114</td>\n      <td>4282</td>\n      <td>0</td>\n      <td>0</td>\n    </tr>\n    <tr>\n      <th>77651</th>\n      <td>Akuteru</td>\n      <td>6624</td>\n      <td>20785</td>\n      <td>17265</td>\n      <td>28121</td>\n      <td>0</td>\n      <td>0</td>\n      <td>0</td>\n      <td>0</td>\n      <td>0</td>\n      <td>0</td>\n    </tr>\n    <tr>\n      <th>77652</th>\n      <td>Razielek</td>\n      <td>47</td>\n      <td>523</td>\n      <td>820</td>\n      <td>30</td>\n      <td>339</td>\n      <td>0</td>\n      <td>0</td>\n      <td>0</td>\n      <td>0</td>\n      <td>0</td>\n    </tr>\n    <tr>\n      <th>77654</th>\n      <td>Mattierial</td>\n      <td>10087</td>\n      <td>21327</td>\n      <td>585</td>\n      <td>28851</td>\n      <td>32281</td>\n      <td>431</td>\n      <td>578</td>\n      <td>5114</td>\n      <td>1535</td>\n      <td>0</td>\n    </tr>\n    <tr>\n      <th>77657</th>\n      <td>bridgesams</td>\n      <td>37510</td>\n      <td>35180</td>\n      <td>30</td>\n      <td>31043</td>\n      <td>5081</td>\n      <td>37450</td>\n      <td>11843</td>\n      <td>0</td>\n      <td>0</td>\n      <td>0</td>\n    </tr>\n  </tbody>\n</table>\n<p>37478 rows × 11 columns</p>\n</div>"
     },
     "execution_count": 162,
     "metadata": {},
     "output_type": "execute_result"
    }
   ],
   "source": [
    "profiles_copy = profiles_data[['profile', 'favorites_anime']].copy().drop_duplicates()\n",
    "def load_top_10(entry):\n",
    "    top_10 = json.loads(entry)\n",
    "    if len(top_10) == 0:\n",
    "        return np.nan\n",
    "    top_10 = top_10[0:min(10, len(top_10))]\n",
    "    top_10 = [int(anime_id) for anime_id in top_10]\n",
    "    top_10 += [0] * (10 - len(top_10))\n",
    "    return np.asarray(top_10)\n",
    "profiles_copy['favorites_anime'] = profiles_copy['favorites_anime'].str.replace('\\'', '\\\"').apply(load_top_10)\n",
    "profiles_copy.dropna(inplace=True)\n",
    "for i in range(10):\n",
    "    a = np.stack(np.asarray(profiles_copy['favorites_anime']))[:, i]\n",
    "    profiles_copy[f'a{i}'] = a\n",
    "profiles_copy.drop(columns=['favorites_anime'], inplace=True)\n",
    "profiles_copy"
   ],
   "metadata": {
    "collapsed": false,
    "pycharm": {
     "name": "#%%\n"
    }
   }
  },
  {
   "cell_type": "code",
   "execution_count": 163,
   "outputs": [
    {
     "data": {
      "text/plain": "           a0     a1     a2     a3     a4     a5     a6    a7     a8     a9  \\\n0       33352  25013   5530  33674   1482    269  18245  2904  27899  17074   \n1       33352  25013   5530  33674   1482    269  18245  2904  27899  17074   \n2       33352  25013   5530  33674   1482    269  18245  2904  27899  17074   \n3       33352  25013   5530  33674   1482    269  18245  2904  27899  17074   \n4       33352  25013   5530  33674   1482    269  18245  2904  27899  17074   \n...       ...    ...    ...    ...    ...    ...    ...   ...    ...    ...   \n161642  36563    237  23273  32979  23283  12189   5114  4282      0      0   \n161643   6624  20785  17265  28121      0      0      0     0      0      0   \n161644     47    523    820     30    339      0      0     0      0      0   \n161645  10087  21327    585  28851  32281    431    578  5114   1535      0   \n161646  37510  35180     30  31043   5081  37450  11843     0      0      0   \n\n           ar like  \n0       34096    Y  \n1       12403    N  \n2       35073    N  \n3       23225    Y  \n4        2035    Y  \n...       ...  ...  \n161642   2593    Y  \n161643   2593    Y  \n161644   2593    Y  \n161645   2593    Y  \n161646   2593    Y  \n\n[161647 rows x 12 columns]",
      "text/html": "<div>\n<style scoped>\n    .dataframe tbody tr th:only-of-type {\n        vertical-align: middle;\n    }\n\n    .dataframe tbody tr th {\n        vertical-align: top;\n    }\n\n    .dataframe thead th {\n        text-align: right;\n    }\n</style>\n<table border=\"1\" class=\"dataframe\">\n  <thead>\n    <tr style=\"text-align: right;\">\n      <th></th>\n      <th>a0</th>\n      <th>a1</th>\n      <th>a2</th>\n      <th>a3</th>\n      <th>a4</th>\n      <th>a5</th>\n      <th>a6</th>\n      <th>a7</th>\n      <th>a8</th>\n      <th>a9</th>\n      <th>ar</th>\n      <th>like</th>\n    </tr>\n  </thead>\n  <tbody>\n    <tr>\n      <th>0</th>\n      <td>33352</td>\n      <td>25013</td>\n      <td>5530</td>\n      <td>33674</td>\n      <td>1482</td>\n      <td>269</td>\n      <td>18245</td>\n      <td>2904</td>\n      <td>27899</td>\n      <td>17074</td>\n      <td>34096</td>\n      <td>Y</td>\n    </tr>\n    <tr>\n      <th>1</th>\n      <td>33352</td>\n      <td>25013</td>\n      <td>5530</td>\n      <td>33674</td>\n      <td>1482</td>\n      <td>269</td>\n      <td>18245</td>\n      <td>2904</td>\n      <td>27899</td>\n      <td>17074</td>\n      <td>12403</td>\n      <td>N</td>\n    </tr>\n    <tr>\n      <th>2</th>\n      <td>33352</td>\n      <td>25013</td>\n      <td>5530</td>\n      <td>33674</td>\n      <td>1482</td>\n      <td>269</td>\n      <td>18245</td>\n      <td>2904</td>\n      <td>27899</td>\n      <td>17074</td>\n      <td>35073</td>\n      <td>N</td>\n    </tr>\n    <tr>\n      <th>3</th>\n      <td>33352</td>\n      <td>25013</td>\n      <td>5530</td>\n      <td>33674</td>\n      <td>1482</td>\n      <td>269</td>\n      <td>18245</td>\n      <td>2904</td>\n      <td>27899</td>\n      <td>17074</td>\n      <td>23225</td>\n      <td>Y</td>\n    </tr>\n    <tr>\n      <th>4</th>\n      <td>33352</td>\n      <td>25013</td>\n      <td>5530</td>\n      <td>33674</td>\n      <td>1482</td>\n      <td>269</td>\n      <td>18245</td>\n      <td>2904</td>\n      <td>27899</td>\n      <td>17074</td>\n      <td>2035</td>\n      <td>Y</td>\n    </tr>\n    <tr>\n      <th>...</th>\n      <td>...</td>\n      <td>...</td>\n      <td>...</td>\n      <td>...</td>\n      <td>...</td>\n      <td>...</td>\n      <td>...</td>\n      <td>...</td>\n      <td>...</td>\n      <td>...</td>\n      <td>...</td>\n      <td>...</td>\n    </tr>\n    <tr>\n      <th>161642</th>\n      <td>36563</td>\n      <td>237</td>\n      <td>23273</td>\n      <td>32979</td>\n      <td>23283</td>\n      <td>12189</td>\n      <td>5114</td>\n      <td>4282</td>\n      <td>0</td>\n      <td>0</td>\n      <td>2593</td>\n      <td>Y</td>\n    </tr>\n    <tr>\n      <th>161643</th>\n      <td>6624</td>\n      <td>20785</td>\n      <td>17265</td>\n      <td>28121</td>\n      <td>0</td>\n      <td>0</td>\n      <td>0</td>\n      <td>0</td>\n      <td>0</td>\n      <td>0</td>\n      <td>2593</td>\n      <td>Y</td>\n    </tr>\n    <tr>\n      <th>161644</th>\n      <td>47</td>\n      <td>523</td>\n      <td>820</td>\n      <td>30</td>\n      <td>339</td>\n      <td>0</td>\n      <td>0</td>\n      <td>0</td>\n      <td>0</td>\n      <td>0</td>\n      <td>2593</td>\n      <td>Y</td>\n    </tr>\n    <tr>\n      <th>161645</th>\n      <td>10087</td>\n      <td>21327</td>\n      <td>585</td>\n      <td>28851</td>\n      <td>32281</td>\n      <td>431</td>\n      <td>578</td>\n      <td>5114</td>\n      <td>1535</td>\n      <td>0</td>\n      <td>2593</td>\n      <td>Y</td>\n    </tr>\n    <tr>\n      <th>161646</th>\n      <td>37510</td>\n      <td>35180</td>\n      <td>30</td>\n      <td>31043</td>\n      <td>5081</td>\n      <td>37450</td>\n      <td>11843</td>\n      <td>0</td>\n      <td>0</td>\n      <td>0</td>\n      <td>2593</td>\n      <td>Y</td>\n    </tr>\n  </tbody>\n</table>\n<p>161647 rows × 12 columns</p>\n</div>"
     },
     "execution_count": 163,
     "metadata": {},
     "output_type": "execute_result"
    }
   ],
   "source": [
    "def convert_bins(score):\n",
    "    if score < 7:\n",
    "        return 'N'\n",
    "    return 'Y'\n",
    "reviews = reviews_data[['profile', 'anime_uid', 'score']]\n",
    "reviews['like'] = reviews['score'].apply(convert_bins)\n",
    "reviews.drop(columns=['score'], inplace=True)\n",
    "reviews = pd.merge(reviews, profiles_copy, on='profile')\n",
    "reviews.rename(columns={'anime_uid': 'ar'}, inplace=True)\n",
    "reviews = pd.DataFrame({'a0': reviews['a0'].astype('string'),\n",
    "                        'a1': reviews['a1'].astype('string'),\n",
    "                        'a2': reviews['a2'].astype('string'),\n",
    "                        'a3': reviews['a3'].astype('string'),\n",
    "                        'a4': reviews['a4'].astype('string'),\n",
    "                        'a5': reviews['a5'].astype('string'),\n",
    "                        'a6': reviews['a6'].astype('string'),\n",
    "                        'a7': reviews['a7'].astype('string'),\n",
    "                        'a8': reviews['a8'].astype('string'),\n",
    "                        'a9': reviews['a9'].astype('string'),\n",
    "                        'ar': reviews['ar'].astype('string'),\n",
    "                        'like': reviews['like']})\n",
    "reviews"
   ],
   "metadata": {
    "collapsed": false,
    "pycharm": {
     "name": "#%%\n"
    }
   }
  },
  {
   "cell_type": "code",
   "execution_count": 164,
   "outputs": [],
   "source": [
    "reviews.to_csv('./MAL_data/input_no_info.csv')"
   ],
   "metadata": {
    "collapsed": false,
    "pycharm": {
     "name": "#%%\n"
    }
   }
  },
  {
   "cell_type": "code",
   "execution_count": 164,
   "outputs": [],
   "source": [],
   "metadata": {
    "collapsed": false,
    "pycharm": {
     "name": "#%%\n"
    }
   }
  }
 ],
 "metadata": {
  "kernelspec": {
   "name": "winter_ml_proj",
   "language": "python",
   "display_name": "Winter_ML_Proj"
  },
  "language_info": {
   "codemirror_mode": {
    "name": "ipython",
    "version": 2
   },
   "file_extension": ".py",
   "mimetype": "text/x-python",
   "name": "python",
   "nbconvert_exporter": "python",
   "pygments_lexer": "ipython2",
   "version": "2.7.6"
  }
 },
 "nbformat": 4,
 "nbformat_minor": 0
}